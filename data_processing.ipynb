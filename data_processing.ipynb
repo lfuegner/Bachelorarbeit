{
 "cells": [
  {
   "cell_type": "code",
   "execution_count": null,
   "metadata": {},
   "outputs": [],
   "source": [
    "import json\n",
    "f = open(\"data/data_analysis-normal.json\").read()\n",
    "data = json.loads(f)"
   ]
  },
  {
   "cell_type": "markdown",
   "metadata": {},
   "source": [
    "## Table | X Tick Labels"
   ]
  },
  {
   "cell_type": "code",
   "execution_count": null,
   "metadata": {},
   "outputs": [],
   "source": [
    "x_ticks_labels_string = \"\"\n",
    "for sequence in data:\n",
    "  x_ticks_labels_string += f\"{sequence},\"\n",
    "\n",
    "print(x_ticks_labels_string.replace(\"_\", \"\\_\"))"
   ]
  },
  {
   "cell_type": "markdown",
   "metadata": {},
   "source": [
    "## Plot | Gesamte Boarding-Zeit + Konfidenz Intervalle"
   ]
  },
  {
   "cell_type": "code",
   "execution_count": null,
   "metadata": {},
   "outputs": [],
   "source": [
    "coordinate = \"\"\n",
    "for i, sequence in enumerate(data):\n",
    "  ci = (data[sequence][\"total_boarding_time_ci\"][1] - data[sequence][\"total_boarding_time_ci\"][0])/120\n",
    "  coordinate += f\"({i+1},{data[sequence][\"total_boarding_time_mean\"]/60}) +- ({ci},{ci})\\n\"\n",
    "\n",
    "print(coordinate)"
   ]
  },
  {
   "cell_type": "markdown",
   "metadata": {},
   "source": [
    "## Table | Simulationsergebnisse für die verschiedenen Boarding-Sequenzen"
   ]
  },
  {
   "cell_type": "code",
   "execution_count": null,
   "metadata": {},
   "outputs": [],
   "source": [
    "data_string = \"\"\n",
    "seat_100_total_time = data[\"by_seat_des_row_by_letter\"][\"total_boarding_time_mean\"]/60\n",
    "seat_100_avg_time = data[\"by_seat_des_row_by_letter\"][\"average_individual_boarding_time_mean\"]/60\n",
    "seat_100_max_time = data[\"by_seat_des_row_by_letter\"][\"maximum_individual_boarding_time_mean\"]/60\n",
    "\n",
    "helper =\"\\y\\ \"\n",
    "helper = helper.replace(\"y\",\"\")\n",
    "\n",
    "for i,sequence in enumerate(data):\n",
    "  total_boarding_time_mean = round(data[sequence][\"total_boarding_time_mean\"]/60,2)\n",
    "  total_boarding_time_sd = round(data[sequence][\"total_boarding_time_sd\"]/60,2)\n",
    "  total_over = int(round(total_boarding_time_mean / seat_100_total_time * 100,0))\n",
    "\n",
    "  average_individual_boarding_time_mean = round(data[sequence][\"average_individual_boarding_time_mean\"]/60,2)\n",
    "  average_individual_boarding_time_sd = round(data[sequence][\"average_individual_boarding_time_sd\"]/60,2)\n",
    "  avg_over = int(round(average_individual_boarding_time_mean / seat_100_avg_time * 100,0))\n",
    "\n",
    "  maximum_individual_boarding_time_mean = round(data[sequence][\"maximum_individual_boarding_time_mean\"]/60,2)\n",
    "  maximum_individual_boarding_time_sd = round(data[sequence][\"maximum_individual_boarding_time_sd\"]/60,2)\n",
    "  max_over = int(round(maximum_individual_boarding_time_mean / seat_100_max_time * 100,0))\n",
    "  data_string += f\" {i+1} & {sequence.replace(\"_\", \"\\_\")} &  {total_boarding_time_mean} & {total_boarding_time_sd} & {total_over} & {average_individual_boarding_time_mean} & {average_individual_boarding_time_sd} & {avg_over} & {maximum_individual_boarding_time_mean} & {maximum_individual_boarding_time_sd} & {max_over} {helper} \\n\"\n",
    "\n",
    "print(data_string)"
   ]
  },
  {
   "cell_type": "markdown",
   "metadata": {},
   "source": [
    "## Plot | Simulationsergebnisse - Individuelle Boarding-Zeiten"
   ]
  },
  {
   "cell_type": "code",
   "execution_count": null,
   "metadata": {},
   "outputs": [],
   "source": [
    "coordinate_max = \"\"\n",
    "coordinate_avg = \"\"\n",
    "coordinate_dif = \"\"\n",
    "\n",
    "for i,sequence in enumerate(data):\n",
    "  coordinate_max += f\"({i+1},{data[sequence][\"maximum_individual_boarding_time_mean\"]/60})\"\n",
    "  coordinate_avg += f\"({i+1},{data[sequence][\"average_individual_boarding_time_mean\"]/60})\"\n",
    "  coordinate_dif += f\"({i+1},{abs(data[sequence][\"maximum_individual_boarding_time_mean\"] - data[sequence][\"average_individual_boarding_time_mean\"])/60})\"\n",
    "\n",
    "print(coordinate_max)\n",
    "print(coordinate_avg)\n",
    "print(coordinate_dif)"
   ]
  },
  {
   "cell_type": "markdown",
   "metadata": {},
   "source": [
    "## Plot | Between-Class Gap"
   ]
  },
  {
   "cell_type": "code",
   "execution_count": null,
   "metadata": {},
   "outputs": [],
   "source": [
    "seat_string = \"\"\n",
    "row_string = \"\"\n",
    "halfrow_string = \"\"\n",
    "block_string = \"\"\n",
    "halfblock_string = \"\"\n",
    "\n",
    "for sequence in data:\n",
    "  if data[sequence][\"type\"].strip() == \"seat\":\n",
    "    seat_string +=f\"({data[sequence][\"pattern\"].strip()},{data[sequence][\"total_boarding_time_mean\"]/60})\"\n",
    "\n",
    "  if data[sequence][\"type\"].strip() == \"row\":\n",
    "    row_string +=f\"({data[sequence][\"pattern\"].strip()},{data[sequence][\"total_boarding_time_mean\"]/60})\"\n",
    "\n",
    "  if data[sequence][\"type\"].strip() == \"halfrow\":\n",
    "    halfrow_string +=f\"({data[sequence][\"pattern\"].strip()},{data[sequence][\"total_boarding_time_mean\"]/60})\"\n",
    "  \n",
    "  if data[sequence][\"type\"].strip() == \"block\":\n",
    "    block_string +=f\"({data[sequence][\"pattern\"].strip()},{data[sequence][\"total_boarding_time_mean\"]/60})\"\n",
    "  \n",
    "  if data[sequence][\"type\"].strip() == \"halfblock\":\n",
    "    halfblock_string +=f\"({data[sequence][\"pattern\"].strip()},{data[sequence][\"total_boarding_time_mean\"]/60})\"\n",
    "  \n",
    "\n",
    "print(seat_string)\n",
    "print(row_string)\n",
    "print(halfrow_string)\n",
    "print(block_string)\n",
    "print(halfblock_string)"
   ]
  },
  {
   "cell_type": "markdown",
   "metadata": {},
   "source": [
    "## Table | Best Boadring Sequences"
   ]
  },
  {
   "cell_type": "code",
   "execution_count": null,
   "metadata": {},
   "outputs": [],
   "source": [
    "best_sequence = \"by_seat_des_row_by_letter\"\n",
    "best_boarding_velocity = 132 / (data[best_sequence][\"total_boarding_time_mean\"]/60)\n",
    "best_avg_boarding_time = data[best_sequence][\"average_individual_boarding_time_mean\"] / 60\n",
    "best_max_boarding_time = data[best_sequence][\"maximum_individual_boarding_time_mean\"] / 60\n",
    "\n",
    "for i, sequence in enumerate(data):\n",
    "  if sequence in [\"Random\",\"by_block_2_des\",\"by_halfblock_6_alt_1\",\"by_row_alt_5\",\"by_halfrow_alt_2\",\"by_seat_des_row_by_letter\"]:\n",
    "    boarding_velocity = round(132 / (data[sequence][\"total_boarding_time_mean\"]/60),2)\n",
    "    avg_boarding_time = round(data[sequence][\"average_individual_boarding_time_mean\"] / 60,2)\n",
    "    max_boarding_time = round(data[sequence][\"maximum_individual_boarding_time_mean\"] / 60,2)\n",
    "    print(f\"{boarding_velocity} & {int(round(boarding_velocity / best_boarding_velocity * 100,0))} & {avg_boarding_time} & {int(round(avg_boarding_time / best_avg_boarding_time * 100,0))} & {max_boarding_time} & {int(round(max_boarding_time / best_max_boarding_time * 100,0))}\")\n"
   ]
  },
  {
   "cell_type": "markdown",
   "metadata": {},
   "source": [
    "## Plot | Normal Load vs High Load"
   ]
  },
  {
   "cell_type": "code",
   "execution_count": null,
   "metadata": {},
   "outputs": [],
   "source": [
    "f_high = open(\"data/data_analysis-high.json\").read()\n",
    "data_high= json.loads(f_high)"
   ]
  },
  {
   "cell_type": "code",
   "execution_count": null,
   "metadata": {},
   "outputs": [],
   "source": [
    "coordinates_total = \"\"\n",
    "coordinates_avg = \"\"\n",
    "coordinates_max = \"\"\n",
    "i = 0\n",
    "for sequence in data_high:\n",
    "  if sequence in [\"Random\",\"by_block_2_des\",\"by_halfblock_6_alt_1\",\"by_row_alt_5\",\"by_halfrow_alt_2\",\"by_letter_alt\",\"by_seat_des_row_by_letter\"]:\n",
    "    coordinates_total += f\"({i+1},{int(round((data_high[sequence][\"total_boarding_time_mean\"]/data[sequence][\"total_boarding_time_mean\"])*100,0))})\"\n",
    "    coordinates_avg += f\"({i+1},{int(round((data_high[sequence][\"average_individual_boarding_time_mean\"]/data[sequence][\"average_individual_boarding_time_mean\"])*100,0))})\"\n",
    "    coordinates_max += f\"({i+1},{int(round((data_high[sequence][\"maximum_individual_boarding_time_mean\"]/data[sequence][\"maximum_individual_boarding_time_mean\"])*100,0))})\"\n",
    "    i += 1\n",
    "\n",
    "print(coordinates_total)\n",
    "print(coordinates_avg)\n",
    "print(coordinates_max)"
   ]
  },
  {
   "cell_type": "markdown",
   "metadata": {},
   "source": [
    "## Plot | 0 Prozent falsche Sitzplätze zu 10 Prozent falsche Sitzplätze"
   ]
  },
  {
   "cell_type": "code",
   "execution_count": null,
   "metadata": {},
   "outputs": [],
   "source": [
    "f_10 = open(\"data/data_analysis-normal-10.json\").read()\n",
    "f_20 = open(\"data/data_analysis-normal-20.json\").read()\n",
    "data_10= json.loads(f_10)\n",
    "data_20= json.loads(f_20)"
   ]
  },
  {
   "cell_type": "code",
   "execution_count": null,
   "metadata": {},
   "outputs": [],
   "source": [
    "coordinates_0 = \"\"\n",
    "coordinates_10 = \"\"\n",
    "coordinates_20 = \"\"\n",
    "coordinates_dif = \"\"\n",
    "\n",
    "for i,sequence in enumerate(data):\n",
    "  coordinates_0 += f\"({i+1},{data[sequence][\"total_boarding_time_mean\"]/60})\"\n",
    "  coordinates_10 += f\"({i+1},{data_10[sequence][\"total_boarding_time_mean\"]/60})\"\n",
    "  coordinates_20 += f\"({i+1},{data_20[sequence][\"total_boarding_time_mean\"]/60})\"\n",
    "  coordinates_dif += f\"({i+1},{abs(data_20[sequence][\"total_boarding_time_mean\"]-data[sequence][\"total_boarding_time_mean\"])/60})\"  \n",
    "\n",
    "print(coordinates_0)\n",
    "print(coordinates_10)\n",
    "print(coordinates_20)\n",
    "print(coordinates_dif)"
   ]
  }
 ],
 "metadata": {
  "kernelspec": {
   "display_name": ".venv",
   "language": "python",
   "name": "python3"
  },
  "language_info": {
   "codemirror_mode": {
    "name": "ipython",
    "version": 3
   },
   "file_extension": ".py",
   "mimetype": "text/x-python",
   "name": "python",
   "nbconvert_exporter": "python",
   "pygments_lexer": "ipython3",
   "version": "3.12.0"
  }
 },
 "nbformat": 4,
 "nbformat_minor": 2
}
